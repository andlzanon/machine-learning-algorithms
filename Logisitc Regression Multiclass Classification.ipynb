{
 "cells": [
  {
   "cell_type": "markdown",
   "id": "egyptian-portugal",
   "metadata": {},
   "source": [
    "# Logistic Regression for Multiclass Classification with PyTorch\n",
    "\n",
    "This is a simple implementation of Logistic Regression for multiclass classification on the Iris dataset available in https://archive.ics.uci.edu/ml/datasets/iris"
   ]
  },
  {
   "cell_type": "code",
   "execution_count": 1,
   "id": "powerful-neighbor",
   "metadata": {},
   "outputs": [],
   "source": [
    "# imports\n",
    "import torch\n",
    "import torch.nn as nn\n",
    "import torch.nn.functional as F\n",
    "from sklearn.model_selection import train_test_split\n",
    "\n",
    "import pandas as pd\n",
    "import matplotlib.pyplot as plt"
   ]
  },
  {
   "cell_type": "code",
   "execution_count": 2,
   "id": "champion-recipient",
   "metadata": {},
   "outputs": [
    {
     "data": {
      "text/html": [
       "<div>\n",
       "<style scoped>\n",
       "    .dataframe tbody tr th:only-of-type {\n",
       "        vertical-align: middle;\n",
       "    }\n",
       "\n",
       "    .dataframe tbody tr th {\n",
       "        vertical-align: top;\n",
       "    }\n",
       "\n",
       "    .dataframe thead th {\n",
       "        text-align: right;\n",
       "    }\n",
       "</style>\n",
       "<table border=\"1\" class=\"dataframe\">\n",
       "  <thead>\n",
       "    <tr style=\"text-align: right;\">\n",
       "      <th></th>\n",
       "      <th>sepal length (cm)</th>\n",
       "      <th>sepal width (cm)</th>\n",
       "      <th>petal length (cm)</th>\n",
       "      <th>petal width (cm)</th>\n",
       "      <th>target</th>\n",
       "    </tr>\n",
       "  </thead>\n",
       "  <tbody>\n",
       "    <tr>\n",
       "      <th>0</th>\n",
       "      <td>5.1</td>\n",
       "      <td>3.5</td>\n",
       "      <td>1.4</td>\n",
       "      <td>0.2</td>\n",
       "      <td>0.0</td>\n",
       "    </tr>\n",
       "    <tr>\n",
       "      <th>1</th>\n",
       "      <td>4.9</td>\n",
       "      <td>3.0</td>\n",
       "      <td>1.4</td>\n",
       "      <td>0.2</td>\n",
       "      <td>0.0</td>\n",
       "    </tr>\n",
       "    <tr>\n",
       "      <th>2</th>\n",
       "      <td>4.7</td>\n",
       "      <td>3.2</td>\n",
       "      <td>1.3</td>\n",
       "      <td>0.2</td>\n",
       "      <td>0.0</td>\n",
       "    </tr>\n",
       "    <tr>\n",
       "      <th>3</th>\n",
       "      <td>4.6</td>\n",
       "      <td>3.1</td>\n",
       "      <td>1.5</td>\n",
       "      <td>0.2</td>\n",
       "      <td>0.0</td>\n",
       "    </tr>\n",
       "    <tr>\n",
       "      <th>4</th>\n",
       "      <td>5.0</td>\n",
       "      <td>3.6</td>\n",
       "      <td>1.4</td>\n",
       "      <td>0.2</td>\n",
       "      <td>0.0</td>\n",
       "    </tr>\n",
       "  </tbody>\n",
       "</table>\n",
       "</div>"
      ],
      "text/plain": [
       "   sepal length (cm)  sepal width (cm)  petal length (cm)  petal width (cm)  \\\n",
       "0                5.1               3.5                1.4               0.2   \n",
       "1                4.9               3.0                1.4               0.2   \n",
       "2                4.7               3.2                1.3               0.2   \n",
       "3                4.6               3.1                1.5               0.2   \n",
       "4                5.0               3.6                1.4               0.2   \n",
       "\n",
       "   target  \n",
       "0     0.0  \n",
       "1     0.0  \n",
       "2     0.0  \n",
       "3     0.0  \n",
       "4     0.0  "
      ]
     },
     "execution_count": 2,
     "metadata": {},
     "output_type": "execute_result"
    }
   ],
   "source": [
    "# read iris dataset \n",
    "iris = pd.read_csv(\"./datasets/iris.csv\")\n",
    "iris.head()"
   ]
  },
  {
   "cell_type": "markdown",
   "id": "close-simpson",
   "metadata": {},
   "source": [
    "# Architecture\n",
    "This is an image that represents exactly the model implemented, there are four features in the Iris dataset, however, since there are three main targets there will be 3 output nodes after the SoftMax activation function since it is a multiclass and not a binary classification\n",
    "\n",
    "<img src=https://az712634.vo.msecnd.net/tutorials/Logistic-Regression/LogisticRegression_Image_3.jpg alt=\"Logistic Regression scheme\" width='700'>\n",
    "Image source https://az712634.vo.msecnd.net/tutorials/Logistic-Regression/LogisticRegression_Image_3.jpg"
   ]
  },
  {
   "cell_type": "code",
   "execution_count": 3,
   "id": "through-groove",
   "metadata": {},
   "outputs": [],
   "source": [
    "# class of Logistic Regression representing image, the activation function however is log softmax due to classification task\n",
    "class LogisticRegression(nn.Module):\n",
    "    def __init__(self, in_features, out_features):\n",
    "        super(LogisticRegression, self).__init__()\n",
    "        self.h1 = nn.Linear(in_features, out_features)\n",
    "        \n",
    "    def forward(self, x):\n",
    "        # x = F.sigmoid(self.h1(x)) for linear classification \n",
    "        # x = F.softmax(self.h1(x))\n",
    "        x = F.log_softmax(self.h1(x))\n",
    "        return x"
   ]
  },
  {
   "cell_type": "code",
   "execution_count": 4,
   "id": "permanent-faith",
   "metadata": {},
   "outputs": [],
   "source": [
    "#set seed and create object model\n",
    "torch.manual_seed(30)\n",
    "model = LogisticRegression(in_features=4, out_features=3)"
   ]
  },
  {
   "cell_type": "code",
   "execution_count": 5,
   "id": "addressed-recall",
   "metadata": {},
   "outputs": [],
   "source": [
    "# dataset split\n",
    "X = iris.drop('target',axis=1).values\n",
    "y = iris['target'].values\n",
    "\n",
    "X_train, X_test, y_train, y_test = train_test_split(X,y,test_size=0.2,random_state=30)\n",
    "\n",
    "X_train = torch.FloatTensor(X_train)\n",
    "X_test = torch.FloatTensor(X_test)\n",
    "y_train = torch.LongTensor(y_train)\n",
    "y_test = torch.LongTensor(y_test)"
   ]
  },
  {
   "cell_type": "code",
   "execution_count": 6,
   "id": "contemporary-decimal",
   "metadata": {},
   "outputs": [],
   "source": [
    " # setting the Loss function and the optimizer\n",
    "criterion = nn.CrossEntropyLoss()\n",
    "optimizer = torch.optim.Adam(model.parameters(), lr=0.01)"
   ]
  },
  {
   "cell_type": "code",
   "execution_count": 7,
   "id": "widespread-instrument",
   "metadata": {},
   "outputs": [
    {
     "name": "stderr",
     "output_type": "stream",
     "text": [
      "C:\\Users\\andre\\anaconda3\\envs\\pytorchenv\\lib\\site-packages\\ipykernel_launcher.py:10: UserWarning: Implicit dimension choice for log_softmax has been deprecated. Change the call to include dim=X as an argument.\n",
      "  # Remove the CWD from sys.path while we load stuff.\n"
     ]
    },
    {
     "name": "stdout",
     "output_type": "stream",
     "text": [
      "epoch:  1  loss: 1.58034265\n",
      "epoch: 11  loss: 0.90026951\n",
      "epoch: 21  loss: 0.86009121\n",
      "epoch: 31  loss: 0.76776212\n",
      "epoch: 41  loss: 0.70906419\n",
      "epoch: 51  loss: 0.65633476\n",
      "epoch: 61  loss: 0.61673886\n",
      "epoch: 71  loss: 0.58355200\n",
      "epoch: 81  loss: 0.55582446\n",
      "epoch: 91  loss: 0.53192705\n",
      "epoch: 101  loss: 0.51103318\n",
      "epoch: 111  loss: 0.49243772\n",
      "epoch: 121  loss: 0.47567213\n",
      "epoch: 131  loss: 0.46038008\n",
      "epoch: 141  loss: 0.44630119\n",
      "epoch: 151  loss: 0.43323621\n",
      "epoch: 161  loss: 0.42103329\n",
      "epoch: 171  loss: 0.40957388\n",
      "epoch: 181  loss: 0.39876375\n",
      "epoch: 191  loss: 0.38852760\n",
      "epoch: 201  loss: 0.37880385\n",
      "epoch: 211  loss: 0.36954206\n",
      "epoch: 221  loss: 0.36070043\n",
      "epoch: 231  loss: 0.35224384\n",
      "epoch: 241  loss: 0.34414205\n",
      "epoch: 251  loss: 0.33636969\n",
      "epoch: 261  loss: 0.32890433\n",
      "epoch: 271  loss: 0.32172659\n",
      "epoch: 281  loss: 0.31481907\n",
      "epoch: 291  loss: 0.30816647\n",
      "epoch: 301  loss: 0.30175522\n",
      "epoch: 311  loss: 0.29557228\n",
      "epoch: 321  loss: 0.28960648\n",
      "epoch: 331  loss: 0.28384724\n",
      "epoch: 341  loss: 0.27828491\n",
      "epoch: 351  loss: 0.27291021\n",
      "epoch: 361  loss: 0.26771489\n",
      "epoch: 371  loss: 0.26269099\n",
      "epoch: 381  loss: 0.25783110\n",
      "epoch: 391  loss: 0.25312799\n",
      "epoch: 401  loss: 0.24857548\n",
      "epoch: 411  loss: 0.24416678\n",
      "epoch: 421  loss: 0.23989636\n",
      "epoch: 431  loss: 0.23575839\n",
      "epoch: 441  loss: 0.23174749\n",
      "epoch: 451  loss: 0.22785878\n",
      "epoch: 461  loss: 0.22408728\n",
      "epoch: 471  loss: 0.22042820\n",
      "epoch: 481  loss: 0.21687730\n",
      "epoch: 491  loss: 0.21343036\n",
      "epoch: 501  loss: 0.21008345\n",
      "epoch: 511  loss: 0.20683271\n",
      "epoch: 521  loss: 0.20367435\n",
      "epoch: 531  loss: 0.20060512\n",
      "epoch: 541  loss: 0.19762151\n",
      "epoch: 551  loss: 0.19472042\n",
      "epoch: 561  loss: 0.19189864\n",
      "epoch: 571  loss: 0.18915352\n",
      "epoch: 581  loss: 0.18648218\n",
      "epoch: 591  loss: 0.18388186\n",
      "epoch: 601  loss: 0.18135020\n",
      "epoch: 611  loss: 0.17888467\n",
      "epoch: 621  loss: 0.17648290\n",
      "epoch: 631  loss: 0.17414270\n",
      "epoch: 641  loss: 0.17186199\n",
      "epoch: 651  loss: 0.16963860\n",
      "epoch: 661  loss: 0.16747063\n",
      "epoch: 671  loss: 0.16535631\n",
      "epoch: 681  loss: 0.16329367\n",
      "epoch: 691  loss: 0.16128112\n",
      "epoch: 701  loss: 0.15931691\n",
      "epoch: 711  loss: 0.15739943\n",
      "epoch: 721  loss: 0.15552731\n",
      "epoch: 731  loss: 0.15369897\n",
      "epoch: 741  loss: 0.15191302\n",
      "epoch: 751  loss: 0.15016803\n",
      "epoch: 761  loss: 0.14846286\n",
      "epoch: 771  loss: 0.14679618\n",
      "epoch: 781  loss: 0.14516687\n",
      "epoch: 791  loss: 0.14357369\n",
      "epoch: 801  loss: 0.14201555\n",
      "epoch: 811  loss: 0.14049141\n",
      "epoch: 821  loss: 0.13900022\n",
      "epoch: 831  loss: 0.13754101\n",
      "epoch: 841  loss: 0.13611287\n",
      "epoch: 851  loss: 0.13471486\n",
      "epoch: 861  loss: 0.13334604\n",
      "epoch: 871  loss: 0.13200562\n",
      "epoch: 881  loss: 0.13069279\n",
      "epoch: 891  loss: 0.12940678\n",
      "epoch: 901  loss: 0.12814680\n",
      "epoch: 911  loss: 0.12691210\n",
      "epoch: 921  loss: 0.12570201\n",
      "epoch: 931  loss: 0.12451582\n",
      "epoch: 941  loss: 0.12335289\n",
      "epoch: 951  loss: 0.12221263\n",
      "epoch: 961  loss: 0.12109434\n",
      "epoch: 971  loss: 0.11999746\n",
      "epoch: 981  loss: 0.11892145\n",
      "epoch: 991  loss: 0.11786568\n"
     ]
    }
   ],
   "source": [
    "# set number of epochs and train model passing\n",
    "# forward the train set and comparing with real values\n",
    "epochs = 1000\n",
    "losses = []\n",
    "\n",
    "for i in range(epochs):\n",
    "    i+=1\n",
    "    y_pred = model.forward(X_train)\n",
    "    loss = criterion(y_pred, y_train)\n",
    "    losses.append(loss)\n",
    "    \n",
    "    if i%10 == 1:\n",
    "        print(f'epoch: {i:2}  loss: {loss.item():10.8f}')\n",
    "    \n",
    "    # compute the loss, gradients and update parameters\n",
    "    optimizer.zero_grad()\n",
    "    loss.backward()\n",
    "    optimizer.step()"
   ]
  },
  {
   "cell_type": "code",
   "execution_count": 8,
   "id": "documented-yemen",
   "metadata": {},
   "outputs": [
    {
     "data": {
      "image/png": "[encoded data removed]",
      "text/plain": [
       "<Figure size 432x288 with 1 Axes>"
      ]
     },
     "metadata": {
      "needs_background": "light"
     },
     "output_type": "display_data"
    }
   ],
   "source": [
    "# plot errors by epochs \n",
    "plt.plot(range(epochs), losses)\n",
    "plt.ylabel('Loss')\n",
    "plt.xlabel('epoch');"
   ]
  },
  {
   "cell_type": "code",
   "execution_count": 9,
   "id": "rubber-namibia",
   "metadata": {},
   "outputs": [
    {
     "name": "stdout",
     "output_type": "stream",
     "text": [
      "tensor([[-3.4457e-02, -3.3852e+00, -1.6555e+01],\n",
      "        [-1.0290e-02, -4.5817e+00, -1.7407e+01],\n",
      "        [-4.2895e-02, -3.1704e+00, -1.5178e+01],\n",
      "        [-9.1725e+00, -2.6424e+00, -7.3966e-02],\n",
      "        [-3.7046e+00, -5.8941e-02, -3.4226e+00],\n",
      "        [-4.1824e+00, -5.3999e-02, -3.2886e+00],\n",
      "        [-7.3279e+00, -1.2818e+00, -3.2600e-01],\n",
      "        [-9.1873e+00, -3.1793e+00, -4.2612e-02],\n",
      "        [-4.1997e+00, -5.4993e-02, -3.2569e+00],\n",
      "        [-1.1130e+01, -2.0952e+00, -1.3132e-01],\n",
      "        [-3.3364e-02, -3.4169e+00, -1.5389e+01],\n",
      "        [-9.4581e+00, -2.1556e+00, -1.2320e-01],\n",
      "        [-3.2044e+00, -6.2094e-02, -3.9310e+00],\n",
      "        [-3.9906e+00, -1.0092e-01, -2.5574e+00],\n",
      "        [-5.3734e-02, -2.9505e+00, -1.4592e+01],\n",
      "        [-4.2127e+00, -6.7555e-02, -2.9854e+00],\n",
      "        [-4.0522e-03, -5.5105e+00, -2.0262e+01],\n",
      "        [-4.2502e-02, -3.1794e+00, -1.5669e+01],\n",
      "        [-5.6021e-02, -2.9099e+00, -1.4842e+01],\n",
      "        [-7.1097e+00, -5.4733e-01, -8.6585e-01],\n",
      "        [-6.8773e+00, -5.3654e-01, -8.8140e-01],\n",
      "        [-2.0816e-02, -3.8824e+00, -1.6130e+01],\n",
      "        [-1.3049e-02, -4.3455e+00, -1.7807e+01],\n",
      "        [-1.6263e-02, -4.1270e+00, -1.7420e+01],\n",
      "        [-1.3058e+01, -3.5578e+00, -2.8917e-02],\n",
      "        [-1.1601e+01, -4.1101e+00, -1.6551e-02],\n",
      "        [-5.6731e+00, -1.0690e+00, -4.2583e-01],\n",
      "        [-1.0486e+01, -4.4552e+00, -1.1715e-02],\n",
      "        [-2.0802e-02, -3.8831e+00, -1.6557e+01],\n",
      "        [-5.9516e+00, -1.2464e-01, -2.1664e+00]])\n",
      "0.13744864\n"
     ]
    },
    {
     "name": "stderr",
     "output_type": "stream",
     "text": [
      "C:\\Users\\andre\\anaconda3\\envs\\pytorchenv\\lib\\site-packages\\ipykernel_launcher.py:10: UserWarning: Implicit dimension choice for log_softmax has been deprecated. Change the call to include dim=X as an argument.\n",
      "  # Remove the CWD from sys.path while we load stuff.\n"
     ]
    }
   ],
   "source": [
    "# evaluate the entire test set\n",
    "with torch.no_grad():\n",
    "    y_val = model.forward(X_test)\n",
    "    print(y_val)\n",
    "    loss = criterion(y_val, y_test)\n",
    "print(f'{loss:.8f}')"
   ]
  },
  {
   "cell_type": "code",
   "execution_count": 10,
   "id": "thousand-aquarium",
   "metadata": {},
   "outputs": [
    {
     "name": "stdout",
     "output_type": "stream",
     "text": [
      " 1. tensor([ -0.0345,  -3.3852, -16.5555]) 0 0\n",
      " 2. tensor([-1.0290e-02, -4.5817e+00, -1.7407e+01]) 0 0\n",
      " 3. tensor([ -0.0429,  -3.1704, -15.1782]) 0 0\n",
      " 4. tensor([-9.1725, -2.6424, -0.0740])    2 2\n",
      " 5. tensor([-3.7046, -0.0589, -3.4226])    1 1\n",
      " 6. tensor([-4.1824, -0.0540, -3.2886])    1 1\n",
      " 7. tensor([-7.3279, -1.2818, -0.3260])    2 2\n",
      " 8. tensor([-9.1873, -3.1793, -0.0426])    2 2\n",
      " 9. tensor([-4.1997, -0.0550, -3.2569])    1 1\n",
      "10. tensor([-11.1300,  -2.0952,  -0.1313]) 2 2\n",
      "11. tensor([ -0.0334,  -3.4169, -15.3894]) 0 0\n",
      "12. tensor([-9.4581, -2.1555, -0.1232])    2 2\n",
      "13. tensor([-3.2044, -0.0621, -3.9310])    1 1\n",
      "14. tensor([-3.9906, -0.1009, -2.5574])    1 1\n",
      "15. tensor([ -0.0537,  -2.9505, -14.5924]) 0 0\n",
      "16. tensor([-4.2127, -0.0676, -2.9854])    1 1\n",
      "17. tensor([-4.0522e-03, -5.5105e+00, -2.0262e+01]) 0 0\n",
      "18. tensor([ -0.0425,  -3.1794, -15.6688]) 0 0\n",
      "19. tensor([ -0.0560,  -2.9099, -14.8420]) 0 0\n",
      "20. tensor([-7.1097, -0.5473, -0.8659])    1 1\n",
      "21. tensor([-6.8773, -0.5365, -0.8814])    1 2\n",
      "22. tensor([ -0.0208,  -3.8824, -16.1300]) 0 0\n",
      "23. tensor([-1.3049e-02, -4.3455e+00, -1.7807e+01]) 0 0\n",
      "24. tensor([-1.6263e-02, -4.1270e+00, -1.7420e+01]) 0 0\n",
      "25. tensor([-13.0582,  -3.5578,  -0.0289]) 2 2\n",
      "26. tensor([-11.6007,  -4.1101,  -0.0166]) 2 2\n",
      "27. tensor([-5.6731, -1.0690, -0.4258])    2 1\n",
      "28. tensor([-10.4863,  -4.4552,  -0.0117]) 2 2\n",
      "29. tensor([ -0.0208,  -3.8831, -16.5566]) 0 0\n",
      "30. tensor([-5.9516, -0.1246, -2.1664])    1 1\n",
      "\n",
      "28 out of 30 = 93.33% correct\n"
     ]
    },
    {
     "name": "stderr",
     "output_type": "stream",
     "text": [
      "C:\\Users\\andre\\anaconda3\\envs\\pytorchenv\\lib\\site-packages\\ipykernel_launcher.py:10: UserWarning: Implicit dimension choice for log_softmax has been deprecated. Change the call to include dim=X as an argument.\n",
      "  # Remove the CWD from sys.path while we load stuff.\n"
     ]
    }
   ],
   "source": [
    "# verify number of correct predictions\n",
    "correct = 0\n",
    "with torch.no_grad():\n",
    "    for i,data in enumerate(X_test):\n",
    "        y_val = model.forward(data)\n",
    "        print(f'{i+1:2}. {str(y_val):38} {str(y_val.argmax().item())} {y_test[i]}')\n",
    "        if y_val.argmax().item() == y_test[i]:\n",
    "            correct += 1\n",
    "print(f'\\n{correct} out of {len(y_test)} = {100*correct/len(y_test):.2f}% correct')"
   ]
  }
 ],
 "metadata": {
  "kernelspec": {
   "display_name": "Python 3",
   "language": "python",
   "name": "python3"
  },
  "language_info": {
   "codemirror_mode": {
    "name": "ipython",
    "version": 3
   },
   "file_extension": ".py",
   "mimetype": "text/x-python",
   "name": "python",
   "nbconvert_exporter": "python",
   "pygments_lexer": "ipython3",
   "version": "3.7.3"
  }
 },
 "nbformat": 4,
 "nbformat_minor": 5
}
